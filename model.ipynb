{
  "nbformat": 4,
  "nbformat_minor": 0,
  "metadata": {
    "colab": {
      "provenance": []
    },
    "kernelspec": {
      "name": "python3",
      "display_name": "Python 3"
    },
    "language_info": {
      "name": "python"
    }
  },
  "cells": [
    {
      "cell_type": "code",
      "execution_count": 8,
      "metadata": {
        "colab": {
          "base_uri": "https://localhost:8080/"
        },
        "id": "F6cdKQePuFhj",
        "outputId": "6b814386-d724-4770-ebd9-db4059b97d53"
      },
      "outputs": [
        {
          "output_type": "stream",
          "name": "stdout",
          "text": [
            "replace ESC-50-master/.circleci/config.yml? [y]es, [n]o, [A]ll, [N]one, [r]ename: y\n",
            "replace ESC-50-master/.github/stale.yml? [y]es, [n]o, [A]ll, [N]one, [r]ename: A\n",
            "y\n"
          ]
        }
      ],
      "source": [
        "import os\n",
        "import pandas as pd\n",
        "import librosa\n",
        "import numpy as np\n",
        "import matplotlib.pyplot as plt\n",
        "import librosa.display\n",
        "from sklearn.model_selection import train_test_split\n",
        "import tensorflow as tf\n",
        "from tensorflow.keras.models import Sequential\n",
        "from tensorflow.keras.layers import Conv2D, MaxPooling2D, Flatten, Dense, Dropout\n",
        "from tensorflow.keras.utils import to_categorical\n",
        "\n",
        "# Download the dataset\n",
        "!wget -q https://github.com/karolpiczak/ESC-50/archive/master.zip\n",
        "!unzip -q master.zip\n",
        "\n",
        "# Load the metadata\n",
        "metadata = pd.read_csv('ESC-50-master/meta/esc50.csv')\n",
        "\n",
        "# Filter to include only animal sounds\n",
        "animal_sounds = metadata[metadata['category'].isin(['dog', 'cat', 'bird', 'cow', 'frog'])]\n",
        "\n",
        "# Function to load audio files and extract features\n",
        "def load_audio(file_path):\n",
        "    y, sr = librosa.load(file_path, sr=None)\n",
        "    return y, sr\n",
        "\n",
        "def extract_features(y, sr):\n",
        "    spectrogram = librosa.feature.melspectrogram(y=y, sr=sr)\n",
        "    log_spectrogram = librosa.power_to_db(spectrogram, ref=np.max)\n",
        "    return log_spectrogram\n",
        "\n",
        "# Extract features and prepare dataset\n",
        "X = []\n",
        "y = []\n",
        "for idx, row in animal_sounds.iterrows():\n",
        "    file_path = f\"ESC-50-master/audio/{row['filename']}\"\n",
        "    y_audio, sr = load_audio(file_path)\n",
        "    features = extract_features(y_audio, sr)\n",
        "    X.append(features)\n",
        "    y.append(row['category'])\n",
        "\n",
        "X = np.array(X)\n",
        "y = np.array(y)\n",
        "\n",
        "# Encode labels\n",
        "label_map = {label: idx for idx, label in enumerate(np.unique(y))}\n",
        "y = np.array([label_map[label] for label in y])\n",
        "\n",
        "# Expand dimensions for CNN\n",
        "X = np.expand_dims(X, axis=-1)\n",
        "\n",
        "# Train-test split\n",
        "X_train, X_test, y_train, y_test = train_test_split(X, y, test_size=0.2, random_state=42)\n",
        "\n",
        "# One-hot encode labels\n",
        "y_train = to_categorical(y_train, num_classes=len(label_map))\n",
        "y_test = to_categorical(y_test, num_classes=len(label_map))\n"
      ]
    },
    {
      "cell_type": "code",
      "source": [
        "# Define the model\n",
        "model = Sequential([\n",
        "    Conv2D(32, (3, 3), activation='relu', input_shape=(X_train.shape[1], X_train.shape[2], 1)),\n",
        "    MaxPooling2D((2, 2)),\n",
        "    Dropout(0.25),\n",
        "    Conv2D(64, (3, 3), activation='relu'),\n",
        "    MaxPooling2D((2, 2)),\n",
        "    Dropout(0.25),\n",
        "    Flatten(),\n",
        "    Dense(128, activation='relu'),\n",
        "    Dropout(0.5),\n",
        "    Dense(len(label_map), activation='softmax')\n",
        "])\n",
        "\n",
        "# Compile the model\n",
        "model.compile(optimizer='adam', loss='categorical_crossentropy', metrics=['accuracy'])\n",
        "\n",
        "# Train the model\n",
        "history = model.fit(X_train, y_train, epochs=30, batch_size=32, validation_data=(X_test, y_test))\n"
      ],
      "metadata": {
        "colab": {
          "base_uri": "https://localhost:8080/"
        },
        "id": "pLiLFqHuulr4",
        "outputId": "738f6ff0-00c1-4250-ed71-37d52b9bb450"
      },
      "execution_count": 9,
      "outputs": [
        {
          "output_type": "stream",
          "name": "stdout",
          "text": [
            "Epoch 1/30\n",
            "4/4 [==============================] - 10s 2s/step - loss: 1074.0260 - accuracy: 0.1641 - val_loss: 111.0377 - val_accuracy: 0.1875\n",
            "Epoch 2/30\n",
            "4/4 [==============================] - 8s 2s/step - loss: 374.1755 - accuracy: 0.2891 - val_loss: 34.4438 - val_accuracy: 0.1250\n",
            "Epoch 3/30\n",
            "4/4 [==============================] - 9s 2s/step - loss: 81.1257 - accuracy: 0.3125 - val_loss: 6.9450 - val_accuracy: 0.2812\n",
            "Epoch 4/30\n",
            "4/4 [==============================] - 13s 4s/step - loss: 23.9437 - accuracy: 0.3047 - val_loss: 1.4155 - val_accuracy: 0.2812\n",
            "Epoch 5/30\n",
            "4/4 [==============================] - 8s 2s/step - loss: 5.6378 - accuracy: 0.3047 - val_loss: 1.3524 - val_accuracy: 0.5938\n",
            "Epoch 6/30\n",
            "4/4 [==============================] - 8s 2s/step - loss: 1.2100 - accuracy: 0.4609 - val_loss: 1.2001 - val_accuracy: 0.5938\n",
            "Epoch 7/30\n",
            "4/4 [==============================] - 9s 2s/step - loss: 0.9706 - accuracy: 0.5938 - val_loss: 1.1588 - val_accuracy: 0.6562\n",
            "Epoch 8/30\n",
            "4/4 [==============================] - 9s 2s/step - loss: 0.7625 - accuracy: 0.6953 - val_loss: 1.0915 - val_accuracy: 0.7812\n",
            "Epoch 9/30\n",
            "4/4 [==============================] - 8s 2s/step - loss: 0.5222 - accuracy: 0.8125 - val_loss: 0.9536 - val_accuracy: 0.7812\n",
            "Epoch 10/30\n",
            "4/4 [==============================] - 9s 2s/step - loss: 0.4336 - accuracy: 0.8047 - val_loss: 0.7014 - val_accuracy: 0.7812\n",
            "Epoch 11/30\n",
            "4/4 [==============================] - 9s 2s/step - loss: 0.2479 - accuracy: 0.9219 - val_loss: 0.6695 - val_accuracy: 0.8125\n",
            "Epoch 12/30\n",
            "4/4 [==============================] - 8s 2s/step - loss: 0.1548 - accuracy: 0.9688 - val_loss: 0.6462 - val_accuracy: 0.8438\n",
            "Epoch 13/30\n",
            "4/4 [==============================] - 9s 2s/step - loss: 0.1363 - accuracy: 0.9453 - val_loss: 0.7490 - val_accuracy: 0.8125\n",
            "Epoch 14/30\n",
            "4/4 [==============================] - 9s 2s/step - loss: 0.0836 - accuracy: 0.9609 - val_loss: 0.7564 - val_accuracy: 0.8438\n",
            "Epoch 15/30\n",
            "4/4 [==============================] - 8s 2s/step - loss: 0.0664 - accuracy: 0.9766 - val_loss: 0.8100 - val_accuracy: 0.8438\n",
            "Epoch 16/30\n",
            "4/4 [==============================] - 8s 2s/step - loss: 0.0855 - accuracy: 0.9688 - val_loss: 0.8709 - val_accuracy: 0.8438\n",
            "Epoch 17/30\n",
            "4/4 [==============================] - 9s 2s/step - loss: 0.0369 - accuracy: 1.0000 - val_loss: 0.8340 - val_accuracy: 0.8438\n",
            "Epoch 18/30\n",
            "4/4 [==============================] - 8s 2s/step - loss: 0.0692 - accuracy: 0.9844 - val_loss: 0.8564 - val_accuracy: 0.8438\n",
            "Epoch 19/30\n",
            "4/4 [==============================] - 9s 2s/step - loss: 0.0180 - accuracy: 1.0000 - val_loss: 0.9507 - val_accuracy: 0.8438\n",
            "Epoch 20/30\n",
            "4/4 [==============================] - 9s 2s/step - loss: 0.0234 - accuracy: 1.0000 - val_loss: 1.0955 - val_accuracy: 0.8438\n",
            "Epoch 21/30\n",
            "4/4 [==============================] - 8s 2s/step - loss: 0.0127 - accuracy: 1.0000 - val_loss: 1.2409 - val_accuracy: 0.8438\n",
            "Epoch 22/30\n",
            "4/4 [==============================] - 8s 2s/step - loss: 0.0507 - accuracy: 0.9766 - val_loss: 1.2797 - val_accuracy: 0.8125\n",
            "Epoch 23/30\n",
            "4/4 [==============================] - 8s 2s/step - loss: 0.0107 - accuracy: 1.0000 - val_loss: 1.2626 - val_accuracy: 0.8125\n",
            "Epoch 24/30\n",
            "4/4 [==============================] - 8s 2s/step - loss: 0.0267 - accuracy: 0.9844 - val_loss: 1.0689 - val_accuracy: 0.8750\n",
            "Epoch 25/30\n",
            "4/4 [==============================] - 9s 2s/step - loss: 0.0249 - accuracy: 0.9922 - val_loss: 1.0683 - val_accuracy: 0.8125\n",
            "Epoch 26/30\n",
            "4/4 [==============================] - 9s 2s/step - loss: 0.0212 - accuracy: 0.9844 - val_loss: 1.0050 - val_accuracy: 0.8438\n",
            "Epoch 27/30\n",
            "4/4 [==============================] - 9s 2s/step - loss: 0.0262 - accuracy: 0.9922 - val_loss: 1.0610 - val_accuracy: 0.8750\n",
            "Epoch 28/30\n",
            "4/4 [==============================] - 8s 2s/step - loss: 0.0205 - accuracy: 0.9922 - val_loss: 1.1897 - val_accuracy: 0.8438\n",
            "Epoch 29/30\n",
            "4/4 [==============================] - 9s 2s/step - loss: 0.0130 - accuracy: 1.0000 - val_loss: 1.3206 - val_accuracy: 0.8438\n",
            "Epoch 30/30\n",
            "4/4 [==============================] - 9s 2s/step - loss: 0.0318 - accuracy: 0.9922 - val_loss: 1.4412 - val_accuracy: 0.8438\n"
          ]
        }
      ]
    },
    {
      "cell_type": "code",
      "source": [
        "model.save('trained_model.h5')"
      ],
      "metadata": {
        "colab": {
          "base_uri": "https://localhost:8080/"
        },
        "id": "oeuP5acFzrb5",
        "outputId": "0e81184e-a55d-4035-b69a-8fec913c20b8"
      },
      "execution_count": 11,
      "outputs": [
        {
          "output_type": "stream",
          "name": "stderr",
          "text": [
            "/usr/local/lib/python3.10/dist-packages/keras/src/engine/training.py:3103: UserWarning: You are saving your model as an HDF5 file via `model.save()`. This file format is considered legacy. We recommend using instead the native Keras format, e.g. `model.save('my_model.keras')`.\n",
            "  saving_api.save_model(\n"
          ]
        }
      ]
    },
    {
      "cell_type": "code",
      "source": [
        "from google.colab import files\n",
        "files.download('trained_model.h5')"
      ],
      "metadata": {
        "colab": {
          "base_uri": "https://localhost:8080/",
          "height": 17
        },
        "id": "yaA13YdQ0EKY",
        "outputId": "2547bd1c-6b05-4e71-f9f9-8e57792f0c44"
      },
      "execution_count": 13,
      "outputs": [
        {
          "output_type": "display_data",
          "data": {
            "text/plain": [
              "<IPython.core.display.Javascript object>"
            ],
            "application/javascript": [
              "\n",
              "    async function download(id, filename, size) {\n",
              "      if (!google.colab.kernel.accessAllowed) {\n",
              "        return;\n",
              "      }\n",
              "      const div = document.createElement('div');\n",
              "      const label = document.createElement('label');\n",
              "      label.textContent = `Downloading \"${filename}\": `;\n",
              "      div.appendChild(label);\n",
              "      const progress = document.createElement('progress');\n",
              "      progress.max = size;\n",
              "      div.appendChild(progress);\n",
              "      document.body.appendChild(div);\n",
              "\n",
              "      const buffers = [];\n",
              "      let downloaded = 0;\n",
              "\n",
              "      const channel = await google.colab.kernel.comms.open(id);\n",
              "      // Send a message to notify the kernel that we're ready.\n",
              "      channel.send({})\n",
              "\n",
              "      for await (const message of channel.messages) {\n",
              "        // Send a message to notify the kernel that we're ready.\n",
              "        channel.send({})\n",
              "        if (message.buffers) {\n",
              "          for (const buffer of message.buffers) {\n",
              "            buffers.push(buffer);\n",
              "            downloaded += buffer.byteLength;\n",
              "            progress.value = downloaded;\n",
              "          }\n",
              "        }\n",
              "      }\n",
              "      const blob = new Blob(buffers, {type: 'application/binary'});\n",
              "      const a = document.createElement('a');\n",
              "      a.href = window.URL.createObjectURL(blob);\n",
              "      a.download = filename;\n",
              "      div.appendChild(a);\n",
              "      a.click();\n",
              "      div.remove();\n",
              "    }\n",
              "  "
            ]
          },
          "metadata": {}
        },
        {
          "output_type": "display_data",
          "data": {
            "text/plain": [
              "<IPython.core.display.Javascript object>"
            ],
            "application/javascript": [
              "download(\"download_40a38e39-fe91-4480-bb81-c96d19991f58\", \"trained_model.h5\", 312888032)"
            ]
          },
          "metadata": {}
        }
      ]
    },
    {
      "cell_type": "markdown",
      "source": [
        "#transfer learning"
      ],
      "metadata": {
        "id": "Lm3kQypM2jqt"
      }
    },
    {
      "cell_type": "code",
      "source": [
        "from keras.preprocessing.image import ImageDataGenerator\n",
        "from keras.callbacks import ReduceLROnPlateau, EarlyStopping\n",
        "\n",
        "# Data Augmentation\n",
        "datagen = ImageDataGenerator(\n",
        "    rotation_range=10,\n",
        "    width_shift_range=0.1,\n",
        "    height_shift_range=0.1,\n",
        "    zoom_range=0.1\n",
        ")\n",
        "datagen.fit(X_train)\n",
        "\n",
        "# Define the model\n",
        "model2 = Sequential([\n",
        "    Conv2D(32, (3, 3), activation='relu', input_shape=(X_train.shape[1], X_train.shape[2], 1)),\n",
        "    Conv2D(32, (3, 3), activation='relu'),\n",
        "    MaxPooling2D((2, 2)),\n",
        "    Dropout(0.25),\n",
        "    Conv2D(64, (3, 3), activation='relu'),\n",
        "    Conv2D(64, (3, 3), activation='relu'),\n",
        "    MaxPooling2D((2, 2)),\n",
        "    Dropout(0.25),\n",
        "    Conv2D(128, (3, 3), activation='relu'),\n",
        "    MaxPooling2D((2, 2)),\n",
        "    Dropout(0.25),\n",
        "    Flatten(),\n",
        "    Dense(256, activation='relu'),\n",
        "    Dropout(0.5),\n",
        "    Dense(len(label_map), activation='softmax')\n",
        "])\n",
        "\n",
        "# Compile the model\n",
        "model2.compile(optimizer='adam', loss='categorical_crossentropy', metrics=['accuracy'])\n",
        "\n",
        "# Callbacks\n",
        "reduce_lr = ReduceLROnPlateau(monitor='val_loss', factor=0.2, patience=5, min_lr=0.0001)\n",
        "early_stopping = EarlyStopping(monitor='val_loss', patience=10, restore_best_weights=True)\n",
        "\n",
        "# Train the model\n",
        "history = model2.fit(datagen.flow(X_train, y_train, batch_size=32),\n",
        "                    epochs=50,\n",
        "                    validation_data=(X_test, y_test),\n",
        "                    callbacks=[reduce_lr, early_stopping])\n"
      ],
      "metadata": {
        "colab": {
          "base_uri": "https://localhost:8080/"
        },
        "id": "a4mio0TVwbLF",
        "outputId": "2a09e738-4f5f-4dac-bebb-4b4a0403e014"
      },
      "execution_count": 20,
      "outputs": [
        {
          "output_type": "stream",
          "name": "stdout",
          "text": [
            "Epoch 1/50\n",
            "4/4 [==============================] - 27s 6s/step - loss: 133.4811 - accuracy: 0.2812 - val_loss: 2.8852 - val_accuracy: 0.1250 - lr: 0.0010\n",
            "Epoch 2/50\n",
            "4/4 [==============================] - 25s 6s/step - loss: 7.6253 - accuracy: 0.2969 - val_loss: 1.4342 - val_accuracy: 0.3438 - lr: 0.0010\n",
            "Epoch 3/50\n",
            "4/4 [==============================] - 24s 6s/step - loss: 1.6656 - accuracy: 0.2344 - val_loss: 1.3873 - val_accuracy: 0.1875 - lr: 0.0010\n",
            "Epoch 4/50\n",
            "4/4 [==============================] - 24s 6s/step - loss: 1.3856 - accuracy: 0.2578 - val_loss: 1.3868 - val_accuracy: 0.3125 - lr: 0.0010\n",
            "Epoch 5/50\n",
            "4/4 [==============================] - 25s 6s/step - loss: 1.3750 - accuracy: 0.2656 - val_loss: 1.3868 - val_accuracy: 0.3125 - lr: 0.0010\n",
            "Epoch 6/50\n",
            "4/4 [==============================] - 24s 6s/step - loss: 1.3930 - accuracy: 0.2500 - val_loss: 1.3870 - val_accuracy: 0.2812 - lr: 0.0010\n",
            "Epoch 7/50\n",
            "4/4 [==============================] - 25s 6s/step - loss: 1.3835 - accuracy: 0.2734 - val_loss: 1.3871 - val_accuracy: 0.1250 - lr: 0.0010\n",
            "Epoch 8/50\n",
            "4/4 [==============================] - 24s 6s/step - loss: 1.3834 - accuracy: 0.3516 - val_loss: 1.3873 - val_accuracy: 0.1250 - lr: 0.0010\n",
            "Epoch 9/50\n",
            "4/4 [==============================] - 24s 6s/step - loss: 1.3827 - accuracy: 0.3047 - val_loss: 1.3874 - val_accuracy: 0.1250 - lr: 0.0010\n",
            "Epoch 10/50\n",
            "4/4 [==============================] - 25s 6s/step - loss: 1.3675 - accuracy: 0.2969 - val_loss: 1.3873 - val_accuracy: 0.1250 - lr: 2.0000e-04\n",
            "Epoch 11/50\n",
            "4/4 [==============================] - 23s 6s/step - loss: 1.3722 - accuracy: 0.2812 - val_loss: 1.3874 - val_accuracy: 0.1250 - lr: 2.0000e-04\n",
            "Epoch 12/50\n",
            "4/4 [==============================] - 25s 7s/step - loss: 1.3760 - accuracy: 0.2969 - val_loss: 1.3874 - val_accuracy: 0.1250 - lr: 2.0000e-04\n",
            "Epoch 13/50\n",
            "4/4 [==============================] - 24s 6s/step - loss: 1.3781 - accuracy: 0.2812 - val_loss: 1.3874 - val_accuracy: 0.1250 - lr: 2.0000e-04\n",
            "Epoch 14/50\n",
            "4/4 [==============================] - 28s 8s/step - loss: 1.3628 - accuracy: 0.2969 - val_loss: 1.3873 - val_accuracy: 0.1250 - lr: 2.0000e-04\n"
          ]
        }
      ]
    },
    {
      "cell_type": "code",
      "source": [
        "# Evaluate the model\n",
        "test_loss, test_acc = model.evaluate(X_test, y_test, verbose=2)\n",
        "print(f'Test accuracy: {test_acc:.4f}')\n",
        "\n",
        "# Plot training history\n",
        "plt.figure(figsize=(12, 4))\n",
        "plt.subplot(1, 2, 1)\n",
        "plt.plot(history.history['accuracy'], label='Train Accuracy')\n",
        "plt.plot(history.history['val_accuracy'], label='Validation Accuracy')\n",
        "plt.xlabel('Epoch')\n",
        "plt.ylabel('Accuracy')\n",
        "plt.legend(loc='lower right')\n",
        "plt.title('Training and Validation Accuracy')\n",
        "\n",
        "plt.subplot(1, 2, 2)\n",
        "plt.plot(history.history['loss'], label='Train Loss')\n",
        "plt.plot(history.history['val_loss'], label='Validation Loss')\n",
        "plt.xlabel('Epoch')\n",
        "plt.ylabel('Loss')\n",
        "plt.legend(loc='upper right')\n",
        "plt.title('Training and Validation Loss')\n",
        "plt.show()\n"
      ],
      "metadata": {
        "colab": {
          "base_uri": "https://localhost:8080/",
          "height": 374
        },
        "id": "PT0BoGx4vZp_",
        "outputId": "7021650b-af66-42aa-e0ca-b0711e5c2a7f"
      },
      "execution_count": 10,
      "outputs": [
        {
          "output_type": "stream",
          "name": "stdout",
          "text": [
            "1/1 - 0s - loss: 1.4412 - accuracy: 0.8438 - 497ms/epoch - 497ms/step\n",
            "Test accuracy: 0.8438\n"
          ]
        },
        {
          "output_type": "display_data",
          "data": {
            "text/plain": [
              "<Figure size 1200x400 with 2 Axes>"
            ],
            "image/png": "[encoded data removed]"
          },
          "metadata": {}
        }
      ]
    },
    {
      "cell_type": "code",
      "source": [
        "from tensorflow.keras.models import load_model\n",
        "# Load the model\n",
        "loaded_model = load_model('trained_model.h5')\n",
        "\n",
        "# Evaluate the loaded model\n",
        "loss, accuracy = loaded_model.evaluate(X_test, y_test)\n",
        "print(f'Loss: {loss}, Accuracy: {accuracy}')\n"
      ],
      "metadata": {
        "colab": {
          "base_uri": "https://localhost:8080/"
        },
        "id": "WIADHMi_4a6u",
        "outputId": "69e7e54e-e04c-48ed-d6c8-d696cfb8fe15"
      },
      "execution_count": 24,
      "outputs": [
        {
          "output_type": "stream",
          "name": "stdout",
          "text": [
            "1/1 [==============================] - 1s 583ms/step - loss: 1.4412 - accuracy: 0.8438\n",
            "Loss: 1.4411646127700806, Accuracy: 0.84375\n"
          ]
        }
      ]
    },
    {
      "cell_type": "code",
      "source": [
        "!pip install sounddevice\n"
      ],
      "metadata": {
        "colab": {
          "base_uri": "https://localhost:8080/"
        },
        "id": "WGlENGaP6_JS",
        "outputId": "1bfb9496-cd0c-4bae-a0db-e5c3ca9946e9"
      },
      "execution_count": 25,
      "outputs": [
        {
          "output_type": "stream",
          "name": "stdout",
          "text": [
            "y\n",
            "Collecting sounddevice\n",
            "  Downloading sounddevice-0.4.7-py3-none-any.whl (32 kB)\n",
            "Requirement already satisfied: CFFI>=1.0 in /usr/local/lib/python3.10/dist-packages (from sounddevice) (1.16.0)\n",
            "Requirement already satisfied: pycparser in /usr/local/lib/python3.10/dist-packages (from CFFI>=1.0->sounddevice) (2.22)\n",
            "Installing collected packages: sounddevice\n",
            "Successfully installed sounddevice-0.4.7\n"
          ]
        }
      ]
    }
  ]
}